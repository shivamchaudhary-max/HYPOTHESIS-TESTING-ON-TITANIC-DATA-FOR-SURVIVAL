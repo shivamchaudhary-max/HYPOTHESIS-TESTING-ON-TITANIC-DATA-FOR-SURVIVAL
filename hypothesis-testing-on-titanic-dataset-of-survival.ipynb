{
 "cells": [
  {
   "cell_type": "markdown",
   "id": "51deaf70",
   "metadata": {
    "id": "ASeZGKEdAK9Z",
    "papermill": {
     "duration": 0.009768,
     "end_time": "2022-01-16T09:11:02.849106",
     "exception": false,
     "start_time": "2022-01-16T09:11:02.839338",
     "status": "completed"
    },
    "tags": []
   },
   "source": [
    "q4\n"
   ]
  },
  {
   "cell_type": "markdown",
   "id": "605cac03",
   "metadata": {
    "id": "U3Y5y-njEDmm",
    "papermill": {
     "duration": 0.008639,
     "end_time": "2022-01-16T09:11:02.868674",
     "exception": false,
     "start_time": "2022-01-16T09:11:02.860035",
     "status": "completed"
    },
    "tags": []
   },
   "source": [
    "q5"
   ]
  },
  {
   "cell_type": "code",
   "execution_count": 1,
   "id": "0bd75243",
   "metadata": {
    "execution": {
     "iopub.execute_input": "2022-01-16T09:11:02.891606Z",
     "iopub.status.busy": "2022-01-16T09:11:02.890403Z",
     "iopub.status.idle": "2022-01-16T09:11:03.881802Z",
     "shell.execute_reply": "2022-01-16T09:11:03.882955Z"
    },
    "id": "70nHCRS2EJhR",
    "outputId": "b1038993-78f3-4835-ec3c-1f6c48fa4fad",
    "papermill": {
     "duration": 1.005959,
     "end_time": "2022-01-16T09:11:03.883535",
     "exception": false,
     "start_time": "2022-01-16T09:11:02.877576",
     "status": "completed"
    },
    "tags": []
   },
   "outputs": [
    {
     "name": "stdout",
     "output_type": "stream",
     "text": [
      "Populating the interactive namespace from numpy and matplotlib\n"
     ]
    }
   ],
   "source": [
    "#importing of required modules\n",
    "import numpy as np\n",
    "import pandas as pd\n",
    "import matplotlib.pyplot as plt\n",
    "import seaborn as sns\n",
    "from numbers import Number\n",
    "from scipy import stats\n",
    "#allow plots and visualisations to be displayed in the report\n",
    "%pylab inline"
   ]
  },
  {
   "cell_type": "code",
   "execution_count": 2,
   "id": "01af57cc",
   "metadata": {
    "execution": {
     "iopub.execute_input": "2022-01-16T09:11:03.907953Z",
     "iopub.status.busy": "2022-01-16T09:11:03.906969Z",
     "iopub.status.idle": "2022-01-16T09:11:03.927934Z",
     "shell.execute_reply": "2022-01-16T09:11:03.927286Z"
    },
    "id": "cUT-dpl4F3gq",
    "papermill": {
     "duration": 0.033562,
     "end_time": "2022-01-16T09:11:03.928083",
     "exception": false,
     "start_time": "2022-01-16T09:11:03.894521",
     "status": "completed"
    },
    "tags": []
   },
   "outputs": [],
   "source": [
    "titanic = pd.read_csv('../input/titanic/Titanic.csv')"
   ]
  },
  {
   "cell_type": "code",
   "execution_count": 3,
   "id": "c8c0050b",
   "metadata": {
    "execution": {
     "iopub.execute_input": "2022-01-16T09:11:03.951221Z",
     "iopub.status.busy": "2022-01-16T09:11:03.950246Z",
     "iopub.status.idle": "2022-01-16T09:11:03.975505Z",
     "shell.execute_reply": "2022-01-16T09:11:03.976029Z"
    },
    "id": "yZWxC-rIHhSy",
    "outputId": "c70f0f01-d5ec-49dc-e686-82f9bd32830c",
    "papermill": {
     "duration": 0.038357,
     "end_time": "2022-01-16T09:11:03.976213",
     "exception": false,
     "start_time": "2022-01-16T09:11:03.937856",
     "status": "completed"
    },
    "tags": []
   },
   "outputs": [
    {
     "name": "stdout",
     "output_type": "stream",
     "text": [
      "<class 'pandas.core.frame.DataFrame'>\n",
      "RangeIndex: 156 entries, 0 to 155\n",
      "Data columns (total 12 columns):\n",
      " #   Column       Non-Null Count  Dtype  \n",
      "---  ------       --------------  -----  \n",
      " 0   PassengerId  156 non-null    int64  \n",
      " 1   Survived     156 non-null    int64  \n",
      " 2   Pclass       156 non-null    int64  \n",
      " 3   Name         156 non-null    object \n",
      " 4   Sex          156 non-null    object \n",
      " 5   Age          126 non-null    float64\n",
      " 6   SibSp        156 non-null    int64  \n",
      " 7   Parch        156 non-null    int64  \n",
      " 8   Ticket       156 non-null    object \n",
      " 9   Fare         156 non-null    float64\n",
      " 10  Cabin        31 non-null     object \n",
      " 11  Embarked     155 non-null    object \n",
      "dtypes: float64(2), int64(5), object(5)\n",
      "memory usage: 14.8+ KB\n"
     ]
    }
   ],
   "source": [
    "titanic.info()"
   ]
  },
  {
   "cell_type": "code",
   "execution_count": 4,
   "id": "10787be6",
   "metadata": {
    "execution": {
     "iopub.execute_input": "2022-01-16T09:11:04.005174Z",
     "iopub.status.busy": "2022-01-16T09:11:04.004437Z",
     "iopub.status.idle": "2022-01-16T09:11:04.007364Z",
     "shell.execute_reply": "2022-01-16T09:11:04.006813Z"
    },
    "id": "a_P54txxHjWk",
    "papermill": {
     "duration": 0.02117,
     "end_time": "2022-01-16T09:11:04.007516",
     "exception": false,
     "start_time": "2022-01-16T09:11:03.986346",
     "status": "completed"
    },
    "tags": []
   },
   "outputs": [],
   "source": [
    "age_labels = ['0-9', '10-19', '20-29', '30-39', '40-49', '50-59', '60-69', '70-79']\n",
    "titanic['age_group'] = pd.cut(titanic.Age, range(0, 81, 10), right=False, labels=age_labels)"
   ]
  },
  {
   "cell_type": "code",
   "execution_count": 5,
   "id": "d066b300",
   "metadata": {
    "execution": {
     "iopub.execute_input": "2022-01-16T09:11:04.032909Z",
     "iopub.status.busy": "2022-01-16T09:11:04.031918Z",
     "iopub.status.idle": "2022-01-16T09:11:04.060385Z",
     "shell.execute_reply": "2022-01-16T09:11:04.061007Z"
    },
    "id": "IKuprmMjHoMt",
    "outputId": "bc209c9c-01d2-41d3-e269-1996d74eee66",
    "papermill": {
     "duration": 0.043118,
     "end_time": "2022-01-16T09:11:04.061186",
     "exception": false,
     "start_time": "2022-01-16T09:11:04.018068",
     "status": "completed"
    },
    "tags": []
   },
   "outputs": [
    {
     "name": "stdout",
     "output_type": "stream",
     "text": [
      "Sex       female  male\n",
      "Survived              \n",
      "0             16    86\n",
      "1             40    14\n"
     ]
    }
   ],
   "source": [
    "# Count of Survivors by Gender\n",
    "table = pd.crosstab(titanic['Survived'],titanic['Sex'])\n",
    "print (table)"
   ]
  },
  {
   "cell_type": "code",
   "execution_count": 6,
   "id": "174820a0",
   "metadata": {
    "execution": {
     "iopub.execute_input": "2022-01-16T09:11:04.086872Z",
     "iopub.status.busy": "2022-01-16T09:11:04.086144Z",
     "iopub.status.idle": "2022-01-16T09:11:04.094663Z",
     "shell.execute_reply": "2022-01-16T09:11:04.095597Z"
    },
    "id": "DBRlU5RnHylu",
    "outputId": "7c0715db-aeb5-4a4c-c89a-94097bcb00ba",
    "papermill": {
     "duration": 0.023208,
     "end_time": "2022-01-16T09:11:04.095861",
     "exception": false,
     "start_time": "2022-01-16T09:11:04.072653",
     "status": "completed"
    },
    "tags": []
   },
   "outputs": [
    {
     "name": "stdout",
     "output_type": "stream",
     "text": [
      "Sex\n",
      "female    0.714286\n",
      "male      0.140000\n",
      "Name: Survived, dtype: float64\n"
     ]
    }
   ],
   "source": [
    "# Proportion of survivors by Gender\n",
    "print (titanic.groupby('Sex').Survived.mean())"
   ]
  },
  {
   "cell_type": "code",
   "execution_count": 7,
   "id": "00b906d1",
   "metadata": {
    "execution": {
     "iopub.execute_input": "2022-01-16T09:11:04.124693Z",
     "iopub.status.busy": "2022-01-16T09:11:04.123995Z",
     "iopub.status.idle": "2022-01-16T09:11:04.142314Z",
     "shell.execute_reply": "2022-01-16T09:11:04.142856Z"
    },
    "id": "kYUwjJATH-Rz",
    "outputId": "b371f29e-2498-47d3-db32-627795412818",
    "papermill": {
     "duration": 0.03284,
     "end_time": "2022-01-16T09:11:04.143024",
     "exception": false,
     "start_time": "2022-01-16T09:11:04.110184",
     "status": "completed"
    },
    "tags": []
   },
   "outputs": [
    {
     "data": {
      "text/plain": [
       "[['Item', 'Value'],\n",
       " ['Chi-Square Test', 49.802198879551824],\n",
       " ['P-Value', 1.700532765120193e-12]]"
      ]
     },
     "execution_count": 7,
     "metadata": {},
     "output_type": "execute_result"
    }
   ],
   "source": [
    "table = pd.crosstab([titanic['Survived']], titanic['Sex'])\n",
    "chi2, p, dof, expected = stats.chi2_contingency(table.values)\n",
    "results = [\n",
    "    ['Item','Value'],\n",
    "    ['Chi-Square Test',chi2],\n",
    "    ['P-Value', p]\n",
    "]\n",
    "\n",
    "results"
   ]
  },
  {
   "cell_type": "code",
   "execution_count": 8,
   "id": "0ea34368",
   "metadata": {
    "execution": {
     "iopub.execute_input": "2022-01-16T09:11:04.169654Z",
     "iopub.status.busy": "2022-01-16T09:11:04.169018Z",
     "iopub.status.idle": "2022-01-16T09:11:04.176992Z",
     "shell.execute_reply": "2022-01-16T09:11:04.176434Z"
    },
    "id": "fu1ZPDYmIAkO",
    "outputId": "203af49b-b505-470a-d9f5-5ac1472ba2d7",
    "papermill": {
     "duration": 0.022638,
     "end_time": "2022-01-16T09:11:04.177143",
     "exception": false,
     "start_time": "2022-01-16T09:11:04.154505",
     "status": "completed"
    },
    "tags": []
   },
   "outputs": [
    {
     "name": "stdout",
     "output_type": "stream",
     "text": [
      "age_group\n",
      "0-9      0.363636\n",
      "10-19    0.363636\n",
      "20-29    0.340426\n",
      "30-39    0.434783\n",
      "40-49    0.090909\n",
      "50-59    0.250000\n",
      "60-69    0.000000\n",
      "70-79    0.000000\n",
      "Name: Survived, dtype: float64\n"
     ]
    }
   ],
   "source": [
    "\n",
    "print (titanic.groupby(['age_group']).Survived.mean())"
   ]
  },
  {
   "cell_type": "code",
   "execution_count": 9,
   "id": "d1a3dcd9",
   "metadata": {
    "execution": {
     "iopub.execute_input": "2022-01-16T09:11:04.205539Z",
     "iopub.status.busy": "2022-01-16T09:11:04.204870Z",
     "iopub.status.idle": "2022-01-16T09:11:04.469440Z",
     "shell.execute_reply": "2022-01-16T09:11:04.468926Z"
    },
    "id": "pizEDk9NIIYQ",
    "outputId": "722f3f8e-b8b7-416c-be20-bb81decb7916",
    "papermill": {
     "duration": 0.279945,
     "end_time": "2022-01-16T09:11:04.469588",
     "exception": false,
     "start_time": "2022-01-16T09:11:04.189643",
     "status": "completed"
    },
    "tags": []
   },
   "outputs": [
    {
     "data": {
      "image/png": "[encoded data removed]",
      "text/plain": [
       "<Figure size 432x288 with 1 Axes>"
      ]
     },
     "metadata": {
      "needs_background": "light"
     },
     "output_type": "display_data"
    }
   ],
   "source": [
    "titanic.groupby(['age_group']).size().plot(kind='bar',stacked=True)\n",
    "plt.title(\"Distribution of Age Groups\",fontsize=14)\n",
    "plt.ylabel('Count')\n",
    "plt.xlabel('Age Group');"
   ]
  },
  {
   "cell_type": "code",
   "execution_count": 10,
   "id": "f2c15bf8",
   "metadata": {
    "execution": {
     "iopub.execute_input": "2022-01-16T09:11:04.519354Z",
     "iopub.status.busy": "2022-01-16T09:11:04.510796Z",
     "iopub.status.idle": "2022-01-16T09:11:04.751818Z",
     "shell.execute_reply": "2022-01-16T09:11:04.750800Z"
    },
    "id": "8CJ44dL4INuw",
    "outputId": "d109572d-f4b0-4ea0-913a-ca983890699f",
    "papermill": {
     "duration": 0.268756,
     "end_time": "2022-01-16T09:11:04.752020",
     "exception": false,
     "start_time": "2022-01-16T09:11:04.483264",
     "status": "completed"
    },
    "tags": []
   },
   "outputs": [
    {
     "data": {
      "image/png": "[encoded data removed]",
      "text/plain": [
       "<Figure size 432x288 with 1 Axes>"
      ]
     },
     "metadata": {
      "needs_background": "light"
     },
     "output_type": "display_data"
    }
   ],
   "source": [
    "male_data = titanic[titanic.Sex == \"male\"].groupby('age_group').Survived.mean().values\n",
    "female_data = titanic[titanic.Sex == \"female\"].groupby('age_group').Survived.mean().values\n",
    "tick_spacing = np.array(range(len(age_labels)))+0.4\n",
    "ax = plt.subplot()\n",
    "male_plt_position = np.array(range(len(age_labels)))\n",
    "female_plt_position = np.array(range(len(age_labels)))+0.4\n",
    "ax.bar(male_plt_position, male_data,width=0.4,label='Male',color='b')\n",
    "ax.bar(female_plt_position, female_data,width=0.4,label='Female',color='r')\n",
    "plt.xticks(tick_spacing,  age_labels)\n",
    "ax.set_ylabel(\"Proportion\")\n",
    "ax.set_xlabel(\"Age Group\")\n",
    "ax.set_title(\"Proportion of survivors by age group / Gender\",fontsize=14)\n",
    "plt.legend(loc='best')\n",
    "plt.show()"
   ]
  }
 ],
 "metadata": {
  "kernelspec": {
   "display_name": "Python 3",
   "language": "python",
   "name": "python3"
  },
  "language_info": {
   "codemirror_mode": {
    "name": "ipython",
    "version": 3
   },
   "file_extension": ".py",
   "mimetype": "text/x-python",
   "name": "python",
   "nbconvert_exporter": "python",
   "pygments_lexer": "ipython3",
   "version": "3.7.12"
  },
  "papermill": {
   "default_parameters": {},
   "duration": 12.816123,
   "end_time": "2022-01-16T09:11:05.476409",
   "environment_variables": {},
   "exception": null,
   "input_path": "__notebook__.ipynb",
   "output_path": "__notebook__.ipynb",
   "parameters": {},
   "start_time": "2022-01-16T09:10:52.660286",
   "version": "2.3.3"
  }
 },
 "nbformat": 4,
 "nbformat_minor": 5
}
